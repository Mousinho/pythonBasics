{
 "cells": [
  {
   "cell_type": "code",
   "execution_count": 19,
   "id": "4e552972-2bae-481e-9c47-68a4f32abd00",
   "metadata": {},
   "outputs": [
    {
     "name": "stdin",
     "output_type": "stream",
     "text": [
      "Qual foi a nota 5\n"
     ]
    },
    {
     "name": "stdout",
     "output_type": "stream",
     "text": [
      "Em recuperação\n"
     ]
    }
   ],
   "source": [
    "#Estrutura de decisão\n",
    "nota = int(input(\"Qual foi a nota\"))\n",
    "if nota >= 9:\n",
    "    print(\"Passou com Louvor\")\n",
    "elif nota >= 7:\n",
    "    print(\"Aprovador\")\n",
    "elif nota <= 4:\n",
    "    print(\"Reprovado\")\n",
    "else:\n",
    "    print(\"Em recuperação\")"
   ]
  },
  {
   "cell_type": "code",
   "execution_count": 23,
   "id": "311d5293-7e68-48d6-a565-bca63af4466d",
   "metadata": {},
   "outputs": [
    {
     "name": "stdout",
     "output_type": "stream",
     "text": [
      "1\n",
      "2\n",
      "3\n",
      "4\n",
      "5\n",
      "6\n",
      "7\n",
      "8\n",
      "9\n",
      "10\n"
     ]
    }
   ],
   "source": [
    "#Exemplo de while\n",
    "count = 1\n",
    "while count <= 10:\n",
    "    print(count)\n",
    "    count += 1"
   ]
  },
  {
   "cell_type": "code",
   "execution_count": 27,
   "id": "b6966b2c-4715-4ac3-92f3-0230d2d2c1fd",
   "metadata": {},
   "outputs": [
    {
     "name": "stdout",
     "output_type": "stream",
     "text": [
      "1\n",
      "2\n",
      "3\n",
      "4\n",
      "5\n",
      "1\n",
      "2\n",
      "3\n",
      "4\n",
      "5\n",
      "6\n",
      "7\n",
      "8\n",
      "9\n",
      "10\n"
     ]
    }
   ],
   "source": [
    "#Range (0,5,1)\n",
    "#Range (inicio, fim, incremento)\n",
    "#Python ignora o ultimo valor de intervalos\n",
    "#O incremento pode ser negativo\n",
    "\n",
    "for n in range(0,5):\n",
    "    print(n+1)\n",
    "for n in range(1,11):\n",
    "    print(n)"
   ]
  },
  {
   "cell_type": "code",
   "execution_count": 29,
   "id": "e635fafa-7cfb-4192-a1ea-2758929a4b48",
   "metadata": {},
   "outputs": [
    {
     "name": "stdout",
     "output_type": "stream",
     "text": [
      "0\n",
      "1\n",
      "2\n",
      "3\n"
     ]
    }
   ],
   "source": [
    "#Exemplo break\n",
    "#Vai parar no 3 pois o break esta antes do print\n",
    "\n",
    "for n in range(0,5):\n",
    "    if n==4:\n",
    "        break\n",
    "    print(n)"
   ]
  },
  {
   "cell_type": "code",
   "execution_count": 32,
   "id": "41e6a4af-bb36-4848-9aa1-05aa1040385f",
   "metadata": {},
   "outputs": [
    {
     "name": "stdout",
     "output_type": "stream",
     "text": [
      "0\n",
      "1\n",
      "2\n",
      "3\n",
      "5\n",
      "6\n",
      "7\n"
     ]
    }
   ],
   "source": [
    "#Exemplo de continue\n",
    "#Vai pular o número 4\n",
    "\n",
    "for n in range(0,8):\n",
    "    if n == 4:\n",
    "        continue\n",
    "    print(n)"
   ]
  },
  {
   "cell_type": "code",
   "execution_count": null,
   "id": "823f8809-8cfc-46b4-af60-b72a976f72e9",
   "metadata": {},
   "outputs": [],
   "source": []
  }
 ],
 "metadata": {
  "kernelspec": {
   "display_name": "Python 3 (ipykernel)",
   "language": "python",
   "name": "python3"
  },
  "language_info": {
   "codemirror_mode": {
    "name": "ipython",
    "version": 3
   },
   "file_extension": ".py",
   "mimetype": "text/x-python",
   "name": "python",
   "nbconvert_exporter": "python",
   "pygments_lexer": "ipython3",
   "version": "3.9.12"
  }
 },
 "nbformat": 4,
 "nbformat_minor": 5
}
