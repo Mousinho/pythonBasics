{
 "cells": [
  {
   "cell_type": "code",
   "execution_count": 5,
   "id": "4086342d-4075-4cb4-8a1f-86c1748634b8",
   "metadata": {},
   "outputs": [
    {
     "name": "stdout",
     "output_type": "stream",
     "text": [
      "Amplitude é de: 215\n"
     ]
    }
   ],
   "source": [
    "# 1) Faça um programa que tenha uma função chamada amplitude. A função deve receber uma lista e imprimir a amplitude. Crie um código para testar a função.\n",
    "\n",
    "def amplitude(lst):\n",
    "    print(\"Amplitude é de:\", max(lst) - min(lst))   \n",
    "     \n",
    "lst = [32,20,123,235,32,95]\n",
    "amplitude(lst)\n"
   ]
  },
  {
   "cell_type": "code",
   "execution_count": 4,
   "id": "bf1e1e72-a430-4a95-995f-be96d755f941",
   "metadata": {},
   "outputs": [
    {
     "name": "stdout",
     "output_type": "stream",
     "text": [
      "Informe um texto\n",
      "P\n",
      "e\n",
      "d\n",
      "r\n",
      "o\n"
     ]
    }
   ],
   "source": [
    "#2) Faça uma função que receba uma string e imprima esta string na forma vertical. Crie um código para testar a função\n",
    "#Dica: Um string no python funciona como uma lista\n",
    "\n",
    "def imprime(texto):\n",
    "    for n in range(0,len(texto)):\n",
    "        print(texto[n])\n",
    "        \n",
    "        \n",
    "print(\"Informe um texto\")\n",
    "texto = input()\n",
    "imprime (texto)\n"
   ]
  },
  {
   "cell_type": "code",
   "execution_count": 100,
   "id": "bb7ddfe5-7999-485e-aa33-4b7c69de3fca",
   "metadata": {},
   "outputs": [
    {
     "name": "stdout",
     "output_type": "stream",
     "text": [
      "Informe o valor do peso em kilogramas!\n"
     ]
    },
    {
     "name": "stdout",
     "output_type": "stream",
     "text": [
      " 50\n"
     ]
    },
    {
     "name": "stdout",
     "output_type": "stream",
     "text": [
      "Carga não aceita para transporte\n"
     ]
    }
   ],
   "source": [
    "#3) Crie um programa que leia o peso de uma carga em números inteiros. Se o peso for até 10kg, informe o valor que será de 50 reais. Entre 11kg e 20kg, informe o valor de 80 reais.\n",
    "#Se for acima de 20kg o transporte não é aceito. teste vários pesos\n",
    "print(\"Informe o valor do peso em kilogramas!\")\n",
    "carga = int(input())\n",
    "if carga <= 10:\n",
    "    print(\"Valor da compra foi de 50 reais\")\n",
    "elif carga >= 11 and carga <= 20:\n",
    "    print(\"Valor da compra foi de 80 reais\")\n",
    "else:\n",
    "    print(\"Carga não aceita para transporte\")"
   ]
  },
  {
   "cell_type": "code",
   "execution_count": null,
   "id": "a3e8cdbb-9b61-4d0c-acdc-7a635a906041",
   "metadata": {},
   "outputs": [],
   "source": []
  }
 ],
 "metadata": {
  "kernelspec": {
   "display_name": "base",
   "language": "python",
   "name": "python3"
  },
  "language_info": {
   "codemirror_mode": {
    "name": "ipython",
    "version": 3
   },
   "file_extension": ".py",
   "mimetype": "text/x-python",
   "name": "python",
   "nbconvert_exporter": "python",
   "pygments_lexer": "ipython3",
   "version": "3.9.12"
  },
  "vscode": {
   "interpreter": {
    "hash": "0a1acf05b3b517a93984128269528796a22eb0823a2d315f0945e33405fe6edc"
   }
  }
 },
 "nbformat": 4,
 "nbformat_minor": 5
}
