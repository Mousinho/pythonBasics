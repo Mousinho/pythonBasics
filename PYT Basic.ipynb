{
 "cells": [
  {
   "cell_type": "code",
   "execution_count": 2,
   "id": "fdcef9d4-d235-42f9-9f71-b2d18d1087b3",
   "metadata": {},
   "outputs": [
    {
     "name": "stdout",
     "output_type": "stream",
     "text": [
      "1\n",
      "3.1\n",
      "Python\n",
      "True False\n"
     ]
    }
   ],
   "source": [
    "#Criando variáveis\n",
    "x = 1\n",
    "print (x)\n",
    "y = 3.1\n",
    "print(y)\n",
    "m = \"Python\"\n",
    "print (m)\n",
    "w = True\n",
    "z = False\n",
    "print(w,z)"
   ]
  },
  {
   "cell_type": "code",
   "execution_count": 21,
   "id": "17bfc3bd-6440-4646-b6e9-9999da74b3e0",
   "metadata": {},
   "outputs": [
    {
     "name": "stdout",
     "output_type": "stream",
     "text": [
      "20.0\n"
     ]
    }
   ],
   "source": [
    "#Fazendo calculos\n",
    "\n",
    "x = 10\n",
    "y = 4\n",
    "h = 7\n",
    "z = ((x+y)/h)*10\n",
    "print(z)"
   ]
  },
  {
   "cell_type": "code",
   "execution_count": 9,
   "id": "c9b84183-dd97-4730-af80-9883ba8fdf12",
   "metadata": {},
   "outputs": [
    {
     "name": "stdout",
     "output_type": "stream",
     "text": [
      "Este texto será exibido no console\n",
      "18.571428571428573\n",
      "Texto e duas variáveis 10 , 18.571428571428573\n"
     ]
    }
   ],
   "source": [
    "#Exibir texto no console\n",
    "print(\"Este texto será exibido no console\")\n",
    "print(z)\n",
    "print(\"Texto e duas variáveis\",x,\",\",z)"
   ]
  },
  {
   "cell_type": "code",
   "execution_count": 12,
   "id": "d5939c10-11b9-41d5-8ade-b255c5bf2c44",
   "metadata": {},
   "outputs": [
    {
     "name": "stdout",
     "output_type": "stream",
     "text": [
      "<class 'int'>\n",
      "<class 'str'>\n",
      "<class 'bool'>\n"
     ]
    }
   ],
   "source": [
    "#Verificar tipo\n",
    "print(type(x))\n",
    "print(type(m))\n",
    "print(type(w))"
   ]
  },
  {
   "cell_type": "code",
   "execution_count": 16,
   "id": "bc29f854-c6d5-4b12-b721-510bf7470b93",
   "metadata": {},
   "outputs": [
    {
     "name": "stdout",
     "output_type": "stream",
     "text": [
      "Informe um valor\n"
     ]
    },
    {
     "name": "stdin",
     "output_type": "stream",
     "text": [
      " 5\n"
     ]
    },
    {
     "name": "stdout",
     "output_type": "stream",
     "text": [
      "<bound method Kernel.raw_input of <ipykernel.ipkernel.IPythonKernel object at 0x000002770B45BE80>>\n",
      "<class 'str'>\n"
     ]
    }
   ],
   "source": [
    "#Entrando com dados\n",
    "print(\"Informe um valor\")\n",
    "i = input()\n",
    "print(input)\n",
    "print(type(i))"
   ]
  },
  {
   "cell_type": "code",
   "execution_count": 22,
   "id": "1ee81606-6828-463e-be37-b2f4fc3475b1",
   "metadata": {
    "tags": []
   },
   "outputs": [
    {
     "name": "stdin",
     "output_type": "stream",
     "text": [
      "Insira um novo valor 10\n"
     ]
    },
    {
     "name": "stdout",
     "output_type": "stream",
     "text": [
      "20\n"
     ]
    }
   ],
   "source": [
    "#Entrando com valor já com mensagem e convertendo o tipo\n",
    "p = int(input(\"Insira um novo valor\"))\n",
    "p = p*2\n",
    "print(p)"
   ]
  },
  {
   "cell_type": "code",
   "execution_count": null,
   "id": "0ee8164a-b540-4717-bece-0efb400cfa8d",
   "metadata": {},
   "outputs": [],
   "source": []
  }
 ],
 "metadata": {
  "kernelspec": {
   "display_name": "Python 3 (ipykernel)",
   "language": "python",
   "name": "python3"
  },
  "language_info": {
   "codemirror_mode": {
    "name": "ipython",
    "version": 3
   },
   "file_extension": ".py",
   "mimetype": "text/x-python",
   "name": "python",
   "nbconvert_exporter": "python",
   "pygments_lexer": "ipython3",
   "version": "3.9.12"
  }
 },
 "nbformat": 4,
 "nbformat_minor": 5
}
