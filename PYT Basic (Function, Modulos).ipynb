{
 "cells": [
  {
   "cell_type": "code",
   "execution_count": 1,
   "id": "2b6fce17-71f0-4d81-8c68-46fc378bf1d3",
   "metadata": {},
   "outputs": [
    {
     "name": "stdout",
     "output_type": "stream",
     "text": [
      "25\n",
      "25.0\n"
     ]
    }
   ],
   "source": [
    "import statistics\n",
    "i = [10,20,30,40]\n",
    "x = statistics.mean(i)\n",
    "y = statistics.median(i)\n",
    "print(x)\n",
    "print(y)"
   ]
  },
  {
   "cell_type": "code",
   "execution_count": 3,
   "id": "23e178b8-bb37-4504-b322-7e78a8827fcd",
   "metadata": {},
   "outputs": [
    {
     "name": "stdout",
     "output_type": "stream",
     "text": [
      "25\n",
      "25.0\n"
     ]
    }
   ],
   "source": [
    "import statistics as est\n",
    "i = [10,20,30,40]\n",
    "x = est.mean(i)\n",
    "y = est.median(i)\n",
    "print(x)\n",
    "print(y)"
   ]
  },
  {
   "cell_type": "code",
   "execution_count": 4,
   "id": "d10e3628-70c5-4d48-9706-0cde1ebf024d",
   "metadata": {},
   "outputs": [
    {
     "name": "stdout",
     "output_type": "stream",
     "text": [
      "25\n",
      "25.0\n"
     ]
    }
   ],
   "source": [
    "from statistics import mean, median\n",
    "i = [10,20,30,40]\n",
    "x = mean(i)\n",
    "y = median(i)\n",
    "print(x)\n",
    "print(y)"
   ]
  },
  {
   "cell_type": "code",
   "execution_count": 5,
   "id": "bfd4b788-571b-4026-a1e0-848ea6478a7b",
   "metadata": {},
   "outputs": [
    {
     "name": "stdout",
     "output_type": "stream",
     "text": [
      "25\n",
      "25.0\n"
     ]
    }
   ],
   "source": [
    "from statistics import *\n",
    "i =[10,20,30,40]\n",
    "x = mean(i)\n",
    "y = median(i)\n",
    "print(x)\n",
    "print(y)"
   ]
  },
  {
   "cell_type": "code",
   "execution_count": 8,
   "id": "7dbc1a73-91dd-4a68-b2c5-3de0a8b84b65",
   "metadata": {},
   "outputs": [
    {
     "name": "stdout",
     "output_type": "stream",
     "text": [
      "Está é uma função\n"
     ]
    }
   ],
   "source": [
    "#Funções a partir daqui\n",
    "def imprime():\n",
    "    print(\"Está é uma função\")\n",
    "imprime()"
   ]
  },
  {
   "cell_type": "code",
   "execution_count": 9,
   "id": "4cae535c-15ff-4bfd-ad65-9c251d3bb94f",
   "metadata": {},
   "outputs": [
    {
     "name": "stdout",
     "output_type": "stream",
     "text": [
      "Impressão deste texto\n"
     ]
    }
   ],
   "source": [
    "#Com parâmetro\n",
    "def imprime(n):\n",
    "    print(n)\n",
    "imprime(\"Impressão deste texto\")"
   ]
  },
  {
   "cell_type": "code",
   "execution_count": 10,
   "id": "dc6c7d5b-afdd-4683-87e8-249cb5386ae1",
   "metadata": {},
   "outputs": [
    {
     "name": "stdout",
     "output_type": "stream",
     "text": [
      "9\n"
     ]
    }
   ],
   "source": [
    "#Com retorno\n",
    "def potencia(n):\n",
    "    return n*n\n",
    "x = potencia(3)\n",
    "print(x)"
   ]
  },
  {
   "cell_type": "code",
   "execution_count": 19,
   "id": "63cc26cd-109f-402b-887d-607c2089272f",
   "metadata": {},
   "outputs": [
    {
     "name": "stdout",
     "output_type": "stream",
     "text": [
      "1\n",
      "2\n",
      "3\n",
      "4\n",
      "5\n",
      "6\n",
      "7\n",
      "8\n",
      "9\n",
      "10\n",
      "1\n",
      "2\n",
      "3\n",
      "4\n",
      "5\n",
      "6\n",
      "7\n",
      "8\n",
      "9\n",
      "10\n"
     ]
    }
   ],
   "source": [
    "#Com valor default\n",
    "def intervalo(inic=1,fim=10):\n",
    "    for inic in range(inic,fim+1):\n",
    "        print(inic)\n",
    "x = intervalo(1,10)\n",
    "y = intervalo()"
   ]
  },
  {
   "cell_type": "code",
   "execution_count": 21,
   "id": "eabf5625-6ca8-49a5-aceb-062158759702",
   "metadata": {},
   "outputs": [
    {
     "name": "stdout",
     "output_type": "stream",
     "text": [
      "200\n",
      "Valor maior:  45\n",
      "Valor menor:  1\n",
      "Soma:  118\n",
      "Arredondamento:  2.35\n"
     ]
    }
   ],
   "source": [
    "#Funções Padrões \n",
    "#Funções internas\n",
    "print(abs(-200))\n",
    "lst = [1,2,30,40,45]\n",
    "print(\"Valor maior: \",max(lst))\n",
    "print(\"Valor menor: \",min(lst))\n",
    "print(\"Soma: \",sum(lst))\n",
    "print(\"Arredondamento: \",round(2.35453,2))"
   ]
  },
  {
   "cell_type": "code",
   "execution_count": 28,
   "id": "0ff5a683-2b8e-4636-8de8-23f5d5f3855e",
   "metadata": {},
   "outputs": [
    {
     "name": "stdout",
     "output_type": "stream",
     "text": [
      "Média:  23.6\n",
      "Mediana:  30\n",
      "Moda:  1\n"
     ]
    }
   ],
   "source": [
    "#Statistic\n",
    "from statistics import *\n",
    "print(\"Média: \",mean(lst))\n",
    "print(\"Mediana: \",median(lst))\n",
    "print(\"Moda: \",mode(lst))"
   ]
  },
  {
   "cell_type": "code",
   "execution_count": 32,
   "id": "16855542-644a-4cbf-a470-88c8b497153e",
   "metadata": {},
   "outputs": [
    {
     "name": "stdout",
     "output_type": "stream",
     "text": [
      "Desvio padrão:  20.887795479657495\n"
     ]
    }
   ],
   "source": [
    "#Desvio padrão da amostra\n",
    "print(\"Desvio padrão: \",stdev(lst))"
   ]
  },
  {
   "cell_type": "code",
   "execution_count": 31,
   "id": "0cb7b5fc-c47a-4332-a0df-a353b44e00dc",
   "metadata": {},
   "outputs": [
    {
     "name": "stdout",
     "output_type": "stream",
     "text": [
      "Variação:  436.3\n"
     ]
    }
   ],
   "source": [
    "#Variação da amostra\n",
    "print(\"Variação: \",variance(lst))"
   ]
  },
  {
   "cell_type": "code",
   "execution_count": 26,
   "id": "f951923f-8659-4902-b41e-4bba68e84d5e",
   "metadata": {},
   "outputs": [
    {
     "name": "stdout",
     "output_type": "stream",
     "text": [
      "<class 'numpy.ndarray'>\n",
      "[[0.11256787 0.07035695 0.22940333 0.72543172 0.04667473 0.81873505\n",
      "  0.33667839 0.16966954]\n",
      " [0.70151951 0.09862365 0.96434188 0.82599463 0.61774718 0.95963163\n",
      "  0.54862628 0.92928617]\n",
      " [0.14977888 0.71938784 0.51079335 0.41899069 0.73499838 0.90403142\n",
      "  0.08361591 0.30938469]\n",
      " [0.79724111 0.06044781 0.04473152 0.06381095 0.30499714 0.56015255\n",
      "  0.46228659 0.23561786]\n",
      " [0.62538319 0.17873238 0.60831226 0.75260629 0.44391135 0.52656852\n",
      "  0.89966203 0.43618612]\n",
      " [0.73175078 0.18834635 0.18260347 0.87643236 0.22523222 0.28966019\n",
      "  0.03943962 0.3354364 ]\n",
      " [0.61879371 0.92478482 0.55201803 0.52646227 0.70768663 0.88274712\n",
      "  0.06742149 0.59507181]\n",
      " [0.52297664 0.6219259  0.15469729 0.48128394 0.06713257 0.17010364\n",
      "  0.83914576 0.40851578]]\n"
     ]
    }
   ],
   "source": [
    "import numpy as np\n",
    "a = np.random.random((8,8))\n",
    "print(type(a))\n",
    "print(a)"
   ]
  },
  {
   "cell_type": "code",
   "execution_count": null,
   "id": "cc92042a-c45a-4da2-817d-f0108e194c73",
   "metadata": {},
   "outputs": [],
   "source": []
  }
 ],
 "metadata": {
  "kernelspec": {
   "display_name": "Python 3 (ipykernel)",
   "language": "python",
   "name": "python3"
  },
  "language_info": {
   "codemirror_mode": {
    "name": "ipython",
    "version": 3
   },
   "file_extension": ".py",
   "mimetype": "text/x-python",
   "name": "python",
   "nbconvert_exporter": "python",
   "pygments_lexer": "ipython3",
   "version": "3.9.12"
  }
 },
 "nbformat": 4,
 "nbformat_minor": 5
}
