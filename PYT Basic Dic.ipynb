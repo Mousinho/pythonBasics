{
 "cells": [
  {
   "cell_type": "code",
   "execution_count": 2,
   "id": "f5d90c94-2dd5-41ca-8dfb-897589800d1f",
   "metadata": {},
   "outputs": [
    {
     "name": "stdout",
     "output_type": "stream",
     "text": [
      "{'Pedro': 6.0, 'Paula': 9.0, 'Ana': 7.0}\n"
     ]
    }
   ],
   "source": [
    "#Dicionario estrutura chave/valor\n",
    "Notas = {\"Pedro\": 6.0, \"Paula\":9.0, \"Ana\":7.0}\n",
    "print(Notas)"
   ]
  },
  {
   "cell_type": "code",
   "execution_count": 4,
   "id": "c0590ab5-baaa-4fef-9d31-185790639a91",
   "metadata": {},
   "outputs": [
    {
     "name": "stdout",
     "output_type": "stream",
     "text": [
      "6.0\n"
     ]
    }
   ],
   "source": [
    "print(Notas[\"Pedro\"])"
   ]
  },
  {
   "cell_type": "code",
   "execution_count": 6,
   "id": "2a7ca89c-ef8b-48ad-87c9-b3e823cddcc3",
   "metadata": {},
   "outputs": [
    {
     "data": {
      "text/plain": [
       "dict_keys(['Pedro', 'Paula', 'Ana'])"
      ]
     },
     "execution_count": 6,
     "metadata": {},
     "output_type": "execute_result"
    }
   ],
   "source": [
    "#Todas as chvaes\n",
    "Notas.keys()"
   ]
  },
  {
   "cell_type": "code",
   "execution_count": 7,
   "id": "4a280c0f-d3ac-47e0-a80f-32af32224bd4",
   "metadata": {},
   "outputs": [
    {
     "data": {
      "text/plain": [
       "dict_values([6.0, 9.0, 7.0])"
      ]
     },
     "execution_count": 7,
     "metadata": {},
     "output_type": "execute_result"
    }
   ],
   "source": [
    "#Todos os valores\n",
    "Notas.values()"
   ]
  },
  {
   "cell_type": "code",
   "execution_count": 9,
   "id": "29687b0c-63e6-48c6-8863-b32a23b14cd7",
   "metadata": {},
   "outputs": [
    {
     "name": "stdout",
     "output_type": "stream",
     "text": [
      "True\n",
      "False\n"
     ]
    }
   ],
   "source": [
    "#Testa logicamente a existencia\n",
    "print(\"Paula\" in Notas)\n",
    "print(\"Fernando\" in Notas)"
   ]
  },
  {
   "cell_type": "code",
   "execution_count": 25,
   "id": "ec193225-2fea-47ab-9a91-45d081270f2a",
   "metadata": {},
   "outputs": [
    {
     "name": "stdout",
     "output_type": "stream",
     "text": [
      "{'Pedro': 6.0, 'Paula': 9.0, 'Ravi': 4.5}\n"
     ]
    }
   ],
   "source": [
    "#Apaga um elemento\n",
    "del Notas[\"Juvenal\"]\n",
    "print(Notas)"
   ]
  },
  {
   "cell_type": "code",
   "execution_count": 26,
   "id": "a207835c-178c-4992-bf07-b66624550167",
   "metadata": {},
   "outputs": [
    {
     "name": "stdout",
     "output_type": "stream",
     "text": [
      "{'Pedro': 6.0, 'Paula': 9.0, 'Ravi': 4.5}\n"
     ]
    }
   ],
   "source": [
    "#Incluir chave e valor\n",
    "Notas[\"Ravi\"] = 4.5\n",
    "print(Notas)"
   ]
  },
  {
   "cell_type": "code",
   "execution_count": 11,
   "id": "158c72ca-5c27-4781-9e41-7a6eebacfc61",
   "metadata": {},
   "outputs": [
    {
     "data": {
      "text/plain": [
       "'Não encontrado'"
      ]
     },
     "execution_count": 11,
     "metadata": {},
     "output_type": "execute_result"
    }
   ],
   "source": [
    "#Buscar o valor e se não encontrado mostar o 2\n",
    "Notas.get(\"Geraldo\",\"Não encontrado\")"
   ]
  },
  {
   "cell_type": "code",
   "execution_count": 16,
   "id": "a77c2024-f397-44be-8222-45e44f302af0",
   "metadata": {},
   "outputs": [
    {
     "name": "stdout",
     "output_type": "stream",
     "text": [
      "{'Hive', 'Sqoop', 'Sparks'}\n"
     ]
    }
   ],
   "source": [
    "#Sets são conjuntos não ordenados de elementos não repetidos\n",
    "Bigdata = {\"Sparks\",\"Hive\",\"Sqoop\"}\n",
    "print(Bigdata)"
   ]
  },
  {
   "cell_type": "code",
   "execution_count": 17,
   "id": "09dca809-89fb-4e4a-8134-e715371a3163",
   "metadata": {},
   "outputs": [
    {
     "name": "stdout",
     "output_type": "stream",
     "text": [
      "True\n"
     ]
    }
   ],
   "source": [
    "#Verifica a existencia\n",
    "print(\"Sparks\" in Bigdata)"
   ]
  },
  {
   "cell_type": "code",
   "execution_count": 28,
   "id": "69c5cdfd-5071-4266-a4c6-a21f0ad42041",
   "metadata": {},
   "outputs": [
    {
     "data": {
      "text/plain": [
       "{'Hadoop', 'Hive', 'Sparks', 'Sqoop'}"
      ]
     },
     "execution_count": 28,
     "metadata": {},
     "output_type": "execute_result"
    }
   ],
   "source": [
    "#Adiciona elemento no set\n",
    "Bigdata.add(\"Hadoop\")\n",
    "Bigdata"
   ]
  },
  {
   "cell_type": "code",
   "execution_count": 29,
   "id": "aeed862b-747b-499b-afa5-da90c868951f",
   "metadata": {},
   "outputs": [
    {
     "name": "stdout",
     "output_type": "stream",
     "text": [
      "4\n"
     ]
    }
   ],
   "source": [
    "#Número de elementos\n",
    "print(len(Bigdata))"
   ]
  },
  {
   "cell_type": "code",
   "execution_count": 30,
   "id": "20ee6b64-9f39-400e-99ae-b6a32b795a77",
   "metadata": {},
   "outputs": [
    {
     "data": {
      "text/plain": [
       "(1, 2, 3, 4, 5, 6, 7)"
      ]
     },
     "execution_count": 30,
     "metadata": {},
     "output_type": "execute_result"
    }
   ],
   "source": [
    "#Tuplas são listas que não podem ser alteradas\n",
    "#Listas usam [] e tuplas ()\n",
    "tupla = (1,2,3,4,5,6,7)\n",
    "tupla"
   ]
  },
  {
   "cell_type": "code",
   "execution_count": 32,
   "id": "2d347d6a-f96c-4e3f-8750-0a9bbd906e6a",
   "metadata": {},
   "outputs": [
    {
     "data": {
      "text/plain": [
       "5"
      ]
     },
     "execution_count": 32,
     "metadata": {},
     "output_type": "execute_result"
    }
   ],
   "source": [
    "tupla[4]"
   ]
  },
  {
   "cell_type": "code",
   "execution_count": 35,
   "id": "c21c5041-e9c2-4de3-a30c-5c1c793c9f2e",
   "metadata": {},
   "outputs": [
    {
     "data": {
      "text/plain": [
       "{(0, 1): 0,\n",
       " (1, 2): 1,\n",
       " (2, 3): 2,\n",
       " (3, 4): 3,\n",
       " (4, 5): 4,\n",
       " (5, 6): 5,\n",
       " (6, 7): 6,\n",
       " (7, 8): 7,\n",
       " (8, 9): 8,\n",
       " (9, 10): 9}"
      ]
     },
     "execution_count": 35,
     "metadata": {},
     "output_type": "execute_result"
    }
   ],
   "source": [
    "#Dicionários em que cada posição recebe uma tupla\n",
    "dic2 = {(0,1):0,(1,2):1,(2,3):2,(3,4):3,(4,5):4,(5,6):5,(6,7):6,(7,8):7,(8,9):8,(9,10):9}\n",
    "dic2"
   ]
  },
  {
   "cell_type": "code",
   "execution_count": 36,
   "id": "1b5b4c70-9abe-4abb-a9de-d552e81acd82",
   "metadata": {},
   "outputs": [
    {
     "name": "stdout",
     "output_type": "stream",
     "text": [
      "<class 'dict'>\n",
      "<class 'set'>\n",
      "<class 'tuple'>\n"
     ]
    }
   ],
   "source": [
    "print(type(Notas))\n",
    "print(type(Bigdata))\n",
    "print(type(tupla))"
   ]
  },
  {
   "cell_type": "code",
   "execution_count": null,
   "id": "765404af-90ab-4675-ac33-6b81e82b8435",
   "metadata": {},
   "outputs": [],
   "source": []
  }
 ],
 "metadata": {
  "kernelspec": {
   "display_name": "Python 3 (ipykernel)",
   "language": "python",
   "name": "python3"
  },
  "language_info": {
   "codemirror_mode": {
    "name": "ipython",
    "version": 3
   },
   "file_extension": ".py",
   "mimetype": "text/x-python",
   "name": "python",
   "nbconvert_exporter": "python",
   "pygments_lexer": "ipython3",
   "version": "3.9.12"
  }
 },
 "nbformat": 4,
 "nbformat_minor": 5
}
